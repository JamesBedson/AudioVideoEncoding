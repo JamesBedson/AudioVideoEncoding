{
  "cells": [
    {
      "cell_type": "markdown",
      "metadata": {
        "id": "xhsbcIgxR4Xt"
      },
      "source": [
        "# Lab 1: \"Quantization and Entropy Coding\"\n",
        "\n",
        "* Student full name:\n",
        "* Student email:"
      ]
    },
    {
      "cell_type": "markdown",
      "metadata": {
        "id": "-gJZpZnt5rW5"
      },
      "source": [
        "# 0. Introduction\n",
        "During this lab, you will work with the concepts seen during the Lectures. The lab is divided into excercises related to the following fundamental concepts:\n",
        "\n",
        "- Uniform quantization, and quantization error\n",
        "- Entropy\n",
        "- Huffman Coding / Decoding\n",
        "\n",
        "The delivery will consist of a copy of this notebook, with your code, figures, and answers. Please, once finished, run all cells (hopefully without errors) and download your notebook as a `.ipynb` file, which will be submitted to Aula Global.\n",
        "\n",
        "We recommend to work directly on a Google Colab notebook, since we do not require a powerful server, and everything is already set up. In any case, you can work in your own laptop if you prefer to, by installing all required dependencies."
      ]
    },
    {
      "cell_type": "code",
      "execution_count": null,
      "metadata": {
        "id": "kvYa_k6fJQqF"
      },
      "outputs": [],
      "source": [
        "# Install a few dependencies that are not included by default\n",
        "!apt-get install -y ffmpeg\n",
        "!ffmpeg -y -i https://www.voiptroubleshooter.com/open_speech/american/OSR_us_000_0010_8k.wav -af \"volume=9dB\" -t 20 -ac 1 -ar 11025 -acodec pcm_s16le speech.wav\n",
        "!pip install huffman\n",
        "!pip install bitarray"
      ]
    },
    {
      "cell_type": "code",
      "execution_count": null,
      "metadata": {
        "id": "2uar1PvQ0U08"
      },
      "outputs": [],
      "source": [
        "# Check we are using python 3\n",
        "import sys\n",
        "assert(sys.version_info.major == 3)"
      ]
    },
    {
      "cell_type": "code",
      "execution_count": null,
      "metadata": {
        "id": "1-CqfbiuUOmb"
      },
      "outputs": [],
      "source": [
        "# Some useful functions that will be used along the assignment\n",
        "\n",
        "import os\n",
        "import numpy as np\n",
        "import matplotlib.pyplot as plt\n",
        "import librosa\n",
        "from IPython.display import Audio\n",
        "\n",
        "def generate_decay_signal(sample_rate=11025, freq=1000, phase=0, duration=20):\n",
        "    \"\"\" Generate a tone modulated by a decay signal\n",
        "\n",
        "    This signal is useful to study the impact of quantization, since it uses\n",
        "    the full dynamic range.\n",
        "\n",
        "    Args:\n",
        "        sample_rate (int): Sample rate\n",
        "        freq (float): Tone frequency\n",
        "        phase (float): Tone phase\n",
        "        duration (float): Signal duration in seconds\n",
        "\n",
        "    Returns:\n",
        "        (np.array) Samples array\n",
        "    \"\"\"\n",
        "    times = np.arange(0, duration, 1/sample_rate)\n",
        "    cy = np.cos(2 * np.pi * times * freq + phase)\n",
        "    sy = np.sin(2 * np.pi * times * freq + phase)\n",
        "    pulse = cy + sy\n",
        "    unclipped_decay_signal = pulse * 25 * np.exp(-times * 0.5)\n",
        "    decay_signal = np.minimum(np.maximum(unclipped_decay_signal, -1), 1)\n",
        "    return decay_signal\n",
        "\n",
        "def display_spectrogram(x, hop_length=128, n_fft=256, sample_rate=11025):\n",
        "    \"\"\" Display spectrogram of signal x\n",
        "\n",
        "    Args:\n",
        "        x (numpy.array): Array of samples\n",
        "        hop_length (int): Spectrogram hop length\n",
        "        n_fft (int): Spectrogram fft size\n",
        "        sample_rate (int): Sample rate\n",
        "    \"\"\"\n",
        "    from librosa.display import specshow\n",
        "    data = librosa.amplitude_to_db(\n",
        "        np.abs(librosa.core.stft(x,\n",
        "                                 hop_length=hop_length,\n",
        "                                 n_fft=n_fft,\n",
        "                                 center=True)),\n",
        "                                 ref=np.max)\n",
        "    plt.figure(figsize=(10, 5))\n",
        "    specshow(data, x_axis='time', y_axis='linear', cmap='inferno',\n",
        "            sr=sample_rate, hop_length=hop_length)\n",
        "    plt.colorbar(format='%+2.0f dB')\n",
        "\n",
        "def display_audio_player(x, sample_rate=11025):\n",
        "    \"\"\" Display an embedded audio player\n",
        "\n",
        "    Args:\n",
        "        x (numpy.array): Array of samples\n",
        "        sample_rate (int): Sample rate\n",
        "    \"\"\"\n",
        "    return Audio(x, rate=sample_rate)"
      ]
    },
    {
      "cell_type": "markdown",
      "metadata": {
        "id": "gENeh_RCr9mi"
      },
      "source": [
        "# 1. Quantization (40%)"
      ]
    },
    {
      "cell_type": "markdown",
      "metadata": {
        "id": "SYqMP0HB52aR"
      },
      "source": [
        "## Exercise 1.1 (10%)\n",
        "\n",
        "**a) Write a function to plot the waveform of an audio signal (add documentation as in `display_spectrogram`, use `matplotlib`, add at least axis names, make it nice)**"
      ]
    },
    {
      "cell_type": "code",
      "execution_count": null,
      "metadata": {
        "id": "0AJS4tp1UDhP"
      },
      "outputs": [],
      "source": []
    },
    {
      "cell_type": "markdown",
      "metadata": {
        "id": "oM2KGKwkyO09"
      },
      "source": [
        "**b) Plot the waveform of the signal generated with `generate_decay_signal()`**"
      ]
    },
    {
      "cell_type": "code",
      "execution_count": null,
      "metadata": {
        "id": "7OXiWB9TyKYP"
      },
      "outputs": [],
      "source": []
    },
    {
      "cell_type": "markdown",
      "metadata": {
        "id": "xYqOfsfryUQX"
      },
      "source": [
        "**c) Embed an audio player in order to listen to the signal**"
      ]
    },
    {
      "cell_type": "code",
      "execution_count": null,
      "metadata": {
        "id": "_qiob8AyW4_8"
      },
      "outputs": [],
      "source": []
    },
    {
      "cell_type": "markdown",
      "metadata": {
        "id": "G5huaL2fyYbO"
      },
      "source": [
        "**d) Display the spectrogram using `display_spectrogram` function**"
      ]
    },
    {
      "cell_type": "code",
      "execution_count": null,
      "metadata": {
        "id": "wIr60RSbWOBu"
      },
      "outputs": [],
      "source": []
    },
    {
      "cell_type": "markdown",
      "metadata": {
        "id": "nvo1KquKy8Lr"
      },
      "source": [
        "**e) Observe the waveform, the spectrogram, and listen to the audio. Describe briefly your observations**"
      ]
    },
    {
      "cell_type": "markdown",
      "metadata": {
        "id": "Wvbeos-20Lr-"
      },
      "source": [
        "(Answer here)"
      ]
    },
    {
      "cell_type": "markdown",
      "metadata": {
        "id": "9wYoZL_o4F4X"
      },
      "source": [
        "## Exercise 1.2 (25%)\n",
        "\n",
        "Before describing the task, we present an explanation that might help to better understand the approach of the exercise.\n",
        "\n",
        "### About symmetrical mid-rise vs. asymmetrical mid-tread\n",
        "\n",
        "In the bibliography suggested:\n",
        "\n",
        "*Introduction to Digital Audio Coding and Standards. Authors: Bosi, Marina and Goldberg, Richard E.*\n",
        "http://last.hit.bme.hu/download/vidtechlab/fcc/literature/audio/audio_coding_standards_book.pdf\n",
        "\n",
        "The following claim is made:\n",
        "\n",
        "*We typically choose quantizers that are symmetric in that there are an equal number of levels (codes) for positive and negative numbers.*\n",
        "\n",
        "However, in the case of standard PCM audio codings, this is not the case. For instance, 16 bits PCM WAV coding (16 bits signed integers) assigns `-32768` to $-1.0$ amplitude value, `0` to $0.0$ amplitude value, and `+32767` to $+1.0 - \\frac{1}{2^{15}}$ amplitude value. The amplitude value $1.0$ has no representation in 16 bits PCM WAV audio files."
      ]
    },
    {
      "cell_type": "code",
      "execution_count": null,
      "metadata": {
        "id": "QF1rRsCyXM0N"
      },
      "outputs": [],
      "source": [
        "# Some code to illustrate the previous explanation.\n",
        "\n",
        "#https://docs.scipy.org/doc/scipy/reference/generated/scipy.io.wavfile.write.html\n",
        "from scipy.io.wavfile import write\n",
        "from scipy.io.wavfile import read\n",
        "\n",
        "x = np.array([-32768, -1, 0, 1, 32767], dtype=np.int16)\n",
        "write('codec__pcm_s16le.wav', 8000, x)\n",
        "sr, y = read('codec__pcm_s16le.wav')"
      ]
    },
    {
      "cell_type": "code",
      "execution_count": null,
      "metadata": {
        "id": "-xKyGiZaZVll",
        "outputId": "f22dac81-528c-464f-ea38-5b0ee8073530"
      },
      "outputs": [
        {
          "name": "stdout",
          "output_type": "stream",
          "text": [
            "[STREAM]\n",
            "codec_name=pcm_s16le\n",
            "[/STREAM]\n"
          ]
        }
      ],
      "source": [
        "!ffprobe  -v error -i codec__pcm_s16le.wav -show_entries stream=codec_name"
      ]
    },
    {
      "cell_type": "code",
      "execution_count": null,
      "metadata": {
        "id": "_-JYcPo_spfD"
      },
      "outputs": [],
      "source": [
        "# Convert to float 32 bits codec\n",
        "!ffmpeg -y -v error -i codec__pcm_s16le.wav -acodec pcm_f32le codec__pcm_f32le.wav"
      ]
    },
    {
      "cell_type": "code",
      "execution_count": null,
      "metadata": {
        "id": "D16BWs7lZhBN",
        "outputId": "7c75c905-0147-4396-83b5-15c3106c8593"
      },
      "outputs": [
        {
          "name": "stdout",
          "output_type": "stream",
          "text": [
            "-1.0\n",
            "-3.0517578e-05\n",
            "0.0\n",
            "3.0517578e-05\n",
            "0.9999695\n"
          ]
        }
      ],
      "source": [
        "sr, z = read('codec__pcm_f32le.wav')\n",
        "for sample in z:\n",
        "    print(sample)"
      ]
    },
    {
      "cell_type": "markdown",
      "metadata": {
        "id": "QI-XHYrQXLkf"
      },
      "source": [
        "\n",
        "\n",
        "---\n",
        "\n",
        "**a) The following function \"simulates\" the quantization of a signal using an asymmetric uniform mid-tread quantizer with N bits. Please, explain how the function works, and why each line is needed. Imagine you select N=2: does it mean this python program is using 2 bits to store internally each of the numbers produced by this `quantize(x, N)` python function? (you can check it with https://numpy.org/doc/stable/reference/generated/numpy.ndarray.nbytes.html). Why do we say this function \"simulates\" the quantization process?**\n",
        "\n",
        "```python\n",
        "def quantize(x, N):\n",
        "    \"\"\" Quantize signal using N bits\n",
        "    Args:\n",
        "        x (numpy.array): Array of samples\n",
        "        N (int): Number of bits\n",
        "    \"\"\"\n",
        "    x = np.array(x)\n",
        "    quantized = np.round(x * 2**(N-1))\n",
        "    quantized = np.minimum(quantized, 2**(N-1) - 1)\n",
        "    quantized = np.maximum(quantized, -2**(N - 1))\n",
        "    quantized = quantized.astype(np.int16)\n",
        "    return quantized.reshape(x.shape)\n",
        "```\n",
        "\n",
        "**Remember this mid-tread quantization function:**\n",
        "\n",
        "![](https://vru.vibrationresearch.com/wp-content/uploads/2019/10/quantization_midtread_8bit.png-1.png)"
      ]
    },
    {
      "cell_type": "code",
      "execution_count": null,
      "metadata": {
        "id": "3qhk3MP3fLd3"
      },
      "outputs": [],
      "source": []
    },
    {
      "cell_type": "markdown",
      "metadata": {
        "id": "IBFJ-23ATYd7"
      },
      "source": [
        "**A set of tests are provided to check if your function is correctly implemented or not:**"
      ]
    },
    {
      "cell_type": "code",
      "execution_count": null,
      "metadata": {
        "id": "CT03478itymm"
      },
      "outputs": [],
      "source": [
        "# Run this cell for automatic testing\n",
        "\n",
        "def dequantize(codes, N):\n",
        "    \"\"\" Dequantize signal using N bits\n",
        "\n",
        "    Args:\n",
        "        x (numpy.array): Array of samples\n",
        "        N (int): Number of bits\n",
        "    \"\"\"\n",
        "    return np.array(codes) / 2**(N - 1)\n",
        "\n",
        "# Test\n",
        "test_vector = [-1.5,\n",
        "               -1.0,\n",
        "               -0.88,\n",
        "               -0.86,\n",
        "               -0.126,\n",
        "               -0.125,\n",
        "               0,\n",
        "               0.125,\n",
        "               0.126,\n",
        "               1.0,\n",
        "               1.5]\n",
        "expected_codes = [-4, -4, -4, -3, -1, 0, 0, 0, 1, 3, 3]\n",
        "expected_dequantized = [-1.0,\n",
        "                        -1.0,\n",
        "                        -1.0,\n",
        "                        -0.75,\n",
        "                        -0.25,\n",
        "                        0.0,\n",
        "                        0.0,\n",
        "                        0.0,\n",
        "                        0.25,\n",
        "                        0.75,\n",
        "                        0.75]\n",
        "codes = quantize(test_vector, 3)\n",
        "dequantized = dequantize(codes, 3)\n",
        "\n",
        "for x, y, z, e_y, e_z in zip(test_vector, codes, dequantized,\n",
        "                             expected_codes, expected_dequantized):\n",
        "    print(\"x: {0}, code: {1}, dequant: {2}, expected code: {3}, expected dequant: {4}\".format(x, y, z, e_y, e_z))\n",
        "    assert(y == e_y)\n",
        "    assert(z == e_z)\n",
        "\n",
        "# Quantization function using 3 bits\n",
        "plt.figure()\n",
        "x = np.arange(-1.0, 1.0, 0.001)\n",
        "y = dequantize(quantize(x, 3), 3)\n",
        "plt.plot(x, y)\n",
        "plt.grid()\n",
        "plt.title('3 bits quantization function (Δ=0.25)')\n",
        "plt.show()"
      ]
    },
    {
      "cell_type": "markdown",
      "metadata": {
        "id": "avXioTz0PPR6"
      },
      "source": [
        "**b) Complete the function `get_snr(N)` to compute the SNR in dBs given a number of bits for a signal with uniform distribution.**\n",
        "\n",
        "**Note that we added a hack (adding or subtracting $\\frac{1}{2^N}$) in order to use a mid-rise quantizer because the formula $SNR = N \\times 6.021$ is valid for a symmetric quantizer with $2^N$ steps.**\n",
        "\n",
        "Here, please remember that the SNR in dBs is given by:\n",
        "\n",
        "snr = 10 * np.log10(energy_x / energy_qn)\n",
        "\n",
        "Where energy_x is the energy of signal x, and energy_qn is the energy of the quantization error (i.e. x-y).\n",
        "\n",
        "Do not forget to return the snr at the end of the function."
      ]
    },
    {
      "cell_type": "code",
      "execution_count": null,
      "metadata": {
        "id": "DKnEq0XzBKEW"
      },
      "outputs": [],
      "source": [
        "def get_snr_uniform(N):\n",
        "    x = np.random.uniform(low=-1.0, high=1.0, size=(1000000,))\n",
        "    y = dequantize(quantize(x - (1/2**N), N), N) + 1/2**N  # for this experiment\n",
        "                                                           # we use a mid-rise quantizer\n",
        "                                                           # (symmetry reasons)\n",
        "    # Complete this function:\n",
        "\n",
        "def get_theoretical_snr_uniform(N):\n",
        "    theo_snr = N * 6.021\n",
        "    return theo_snr\n",
        "\n",
        "\n",
        "N_range = range(1, 16)\n",
        "snrs = [get_snr_uniform(N) for N in N_range]\n",
        "theo_snrs = [get_theoretical_snr_uniform(N) for N in N_range]\n",
        "for (N, snr, theo_snr) in zip(N_range, snrs, theo_snrs):\n",
        "    print(\"N:{0} bits - SNR:{1:.2f}dB - Theoretical SNR:{2:.2f}dB\".format(N, snr, theo_snr))"
      ]
    },
    {
      "cell_type": "markdown",
      "metadata": {
        "id": "n2H2LJpquTJY"
      },
      "source": [
        "## Exercise 1.3 (5%)\n",
        "\n",
        "**a) Create a decay signal using `generate_decay_signal()` and apply a quantization + dequantization process to the previous signal using 4 bits. Then display the waveform, the spectrogram, and an audio player of the resulting signal.**\n",
        "\n",
        "Tip: In order to display the waveform, spectrogram, or audio player, the signal must be in standard range (float from -1.0 to 1.0). That is why, we suggest to first apply a quantization (in order to convert from a float range to N discrete steps), and then a dequantization (for going back from N discrete steps to a float range between -1.0 and 1.0)."
      ]
    },
    {
      "cell_type": "code",
      "execution_count": null,
      "metadata": {
        "id": "YBrqJN73wsrl"
      },
      "outputs": [],
      "source": []
    },
    {
      "cell_type": "markdown",
      "metadata": {
        "id": "DF2_gjENzFBd"
      },
      "source": [
        "**b) Apply a quantization + dequantization process to the previous signal using 8 bits, and display the waveform, the spectrogram, and an audio player of the resulting signal.**"
      ]
    },
    {
      "cell_type": "code",
      "execution_count": null,
      "metadata": {
        "id": "_zDw9-IDwwlj"
      },
      "outputs": [],
      "source": []
    },
    {
      "cell_type": "markdown",
      "metadata": {
        "id": "VX6s-w7A0sso"
      },
      "source": [
        "**c) Include any observation you might find interesting about this analysis**"
      ]
    },
    {
      "cell_type": "markdown",
      "metadata": {
        "id": "9ImbkKHKw0TF"
      },
      "source": [
        "(Your observations here)"
      ]
    },
    {
      "cell_type": "markdown",
      "metadata": {
        "id": "Ac_jmxD66AAZ"
      },
      "source": [
        "# 2. Entropy calculation (20%)"
      ]
    },
    {
      "cell_type": "markdown",
      "metadata": {
        "id": "XduU7IEimAuR"
      },
      "source": [
        "## Exercise 2.1 (20%)\n",
        "**a) Develop a function that allows you to plot the entropy of a source with variable output probabilities. We wish to observe that the maximum source entropy does indeed occur when the source outputs are equally likely.**\n",
        "\n",
        "**The head of the function should be:**\n",
        "\n",
        "```python\n",
        "def calculate_entropy(probs):\n",
        "    \"\"\"\n",
        "        Args:\n",
        "            probs (np.array): Array of probs. for each symbol in the source\n",
        "        Returns:\n",
        "            (float) H (i.e. Entropy)\n",
        "    \"\"\"\n",
        "```\n",
        "\n",
        "**Please, take into account the cases where probabilities are 0.0, or incorrect inputs with negative probabilities (we can return `np.nan` in that case)**\n",
        "\n",
        "First assert is the most important one:\n",
        "\n",
        "```python\n",
        "assert(calculate_entropy([0.5, 0.5]) == 1.0)\n",
        "```\n",
        "\n",
        "Complying with the rest of asserts is a bit harder:\n",
        "\n",
        "```python\n",
        "assert(calculate_entropy([1.0, 0.0]) == 0.0)\n",
        "assert(np.isnan(calculate_entropy([-1.0, 0.0])))\n",
        "assert(calculate_entropy([0.0, 1.0]) == 0.0)\n",
        "```\n",
        "\n",
        "So I consider the three last ones as optional (they just consider edge cases or incorrect inputs)."
      ]
    },
    {
      "cell_type": "code",
      "execution_count": null,
      "metadata": {
        "id": "L3TryqMW8Qb8"
      },
      "outputs": [],
      "source": []
    },
    {
      "cell_type": "code",
      "execution_count": null,
      "metadata": {
        "id": "bFp-IXmu2FZL"
      },
      "outputs": [],
      "source": [
        "assert(calculate_entropy([0.5, 0.5]) == 1.0)\n",
        "assert(calculate_entropy([1.0, 0.0]) == 0.0)\n",
        "assert(np.isnan(calculate_entropy([-1.0, 0.0])))\n",
        "assert(calculate_entropy([0.0, 1.0]) == 0.0)"
      ]
    },
    {
      "cell_type": "markdown",
      "metadata": {
        "id": "B2O6uDem1-9k"
      },
      "source": [
        "**b) Consider a simple two-output source $[m_1, m_2]$ with respective probabilities $[a, 1 - a]$, and plot the entropy as a function of the parameter $a$, where $0 ≤ a ≤ 1$.**"
      ]
    },
    {
      "cell_type": "code",
      "execution_count": null,
      "metadata": {
        "id": "ydV-9gEgFDBp"
      },
      "outputs": [],
      "source": []
    },
    {
      "cell_type": "markdown",
      "metadata": {
        "id": "GfBDAOEZ1_NV"
      },
      "source": [
        "\n",
        "**c) Optional: consider more complex cases such as a three output source $[m_1, m_2, m_3]$ with\n",
        "respective probabilities $[a, b, 1 − a − b]$. Plot a 2D image with `plt.imshow` where entropy is displayed as a function of `a` and `b` parameters.**"
      ]
    },
    {
      "cell_type": "code",
      "execution_count": null,
      "metadata": {
        "id": "zoHUK8BkF8tL"
      },
      "outputs": [],
      "source": []
    },
    {
      "cell_type": "markdown",
      "metadata": {
        "id": "zIEHmu-XI1mV"
      },
      "source": [
        "# 3. Huffman Encoding (40%)\n",
        "\n",
        "In this exercise, Huffman coding will be applied to compress `speech.wav` file.\n"
      ]
    },
    {
      "cell_type": "code",
      "execution_count": null,
      "metadata": {
        "id": "ZWKCFfcLKPZs"
      },
      "outputs": [],
      "source": [
        "x, sr = librosa.load(\"speech.wav\",\n",
        "                     sr=11025, mono=True)\n",
        "display_waveform(x)\n",
        "display_spectrogram(x)\n",
        "display_audio_player(x)"
      ]
    },
    {
      "cell_type": "markdown",
      "metadata": {
        "id": "xf3zASEf7Ehl"
      },
      "source": [
        "## Exercise 3.1 (15%)"
      ]
    },
    {
      "cell_type": "markdown",
      "metadata": {
        "id": "N0sof9qt93qI"
      },
      "source": [
        "**a) Quantize signal `x` using 4 bits. Call it `y`**\n",
        "\n",
        "Tip: The answer is:\n",
        "\n",
        "```\n",
        "bits_per_sample = 4\n",
        "y = quantize(x, bits_per_sample)\n",
        "```\n",
        "\n",
        "Please, do not spend time dealing with it."
      ]
    },
    {
      "cell_type": "code",
      "execution_count": null,
      "metadata": {
        "id": "V_oOYPcT90zr"
      },
      "outputs": [],
      "source": []
    },
    {
      "cell_type": "markdown",
      "metadata": {
        "id": "uwieWmxkqOzC"
      },
      "source": [
        "**b) Implement a function that computes the probability of occurrence per symbol for `y`.**\n",
        "\n",
        "**The header of the function must be:**\n",
        "\n",
        "Tip: With `np.unique(y, return_counts=True)`, the answer can be done with three lines. Beware that np.unique returns counts, instead of probabilities, so you have to normalize them (probabilities sum 1.0).\n",
        "\n",
        "Remember that a function can return more than one element in python, e.g.\n",
        "\n",
        "```python\n",
        "def get_prob_per_symbol(y):\n",
        "    \"\"\" Get symbol occurrence probability\n",
        "    Args:\n",
        "        x (np.array): Input signal\n",
        "    Returns:\n",
        "        (np.array, np.array): (sorted symbols, corresponding probabilities)\n",
        "    \"\"\"\n",
        "    # Complete function here\n",
        "    return symbols, probs\n",
        "symbols, probs = get_prob_per_symbol(y)\n",
        "```"
      ]
    },
    {
      "cell_type": "code",
      "execution_count": null,
      "metadata": {
        "id": "uR6kowrbLGoJ"
      },
      "outputs": [],
      "source": []
    },
    {
      "cell_type": "markdown",
      "metadata": {
        "id": "AIC1PVsktqIG"
      },
      "source": [
        "\n",
        "**c) Use the implemented function to display the symbol probability distribution for `y`**"
      ]
    },
    {
      "cell_type": "code",
      "execution_count": null,
      "metadata": {
        "id": "AsHJ9q2jrMcw"
      },
      "outputs": [],
      "source": []
    },
    {
      "cell_type": "markdown",
      "metadata": {
        "id": "isJWYXRdrL8x"
      },
      "source": [
        "**d) Do you think this probability distribution will be similar in other speech signals?**"
      ]
    },
    {
      "cell_type": "markdown",
      "metadata": {
        "id": "IEkRQurIubdM"
      },
      "source": [
        "(Answer here)"
      ]
    },
    {
      "cell_type": "markdown",
      "metadata": {
        "id": "rkWZU8pCueKK"
      },
      "source": [
        "**e) Compute the entropy of `y`**"
      ]
    },
    {
      "cell_type": "code",
      "execution_count": null,
      "metadata": {
        "id": "rgOQR48rN3FC"
      },
      "outputs": [],
      "source": []
    },
    {
      "cell_type": "markdown",
      "metadata": {
        "id": "bblNGV547IpA"
      },
      "source": [
        "## Exercise 3.2 (15%)"
      ]
    },
    {
      "cell_type": "markdown",
      "metadata": {
        "id": "pimaDCB3x781"
      },
      "source": [
        "**a) Review the documentation of `huffman` python package:**\n",
        "\n",
        "https://pypi.org/project/huffman/\n",
        "\n",
        "**and generate a codebook for the previously computed symbols and probabilities.**\n",
        "\n",
        "Given a list of symbols, and a list of probabilities, (as returned by get_prob_per_symbol)\n",
        "the input to huffman.codebook(symbol_probs) must be:\n",
        "\n",
        "```symbol_probs = [(s, p) for (s, p) in zip(symbols, probs)]```\n",
        "\n",
        "It is the format huffman package understands.\n"
      ]
    },
    {
      "cell_type": "code",
      "execution_count": null,
      "metadata": {
        "id": "humPkDdGODXL"
      },
      "outputs": [],
      "source": []
    },
    {
      "cell_type": "markdown",
      "metadata": {
        "id": "peETzUnOzDcT"
      },
      "source": [
        "**b) Consider the bit array `10010110001`: is the associated symbols sequence unique?**"
      ]
    },
    {
      "cell_type": "markdown",
      "metadata": {
        "id": "M2RntMgD7Ut3"
      },
      "source": [
        "(Answer here)"
      ]
    },
    {
      "cell_type": "markdown",
      "metadata": {
        "id": "bz9rr4Tcy27j"
      },
      "source": [
        "**c) Compute:**\n",
        "- **Code mean length**\n",
        "- **Code efficiency**\n",
        "- **Compression ratio**\n"
      ]
    },
    {
      "cell_type": "code",
      "execution_count": null,
      "metadata": {
        "id": "xKxURbpy8fc-"
      },
      "outputs": [],
      "source": []
    },
    {
      "cell_type": "code",
      "execution_count": null,
      "metadata": {
        "id": "Lex26WVdXP4I"
      },
      "outputs": [],
      "source": [
        "print(\"Mean length: {0}\".format(mean_length))\n",
        "print(\"Code efficiency: {0:.2f}%\".format(100 * code_efficiency))\n",
        "print(\"Compression ratio: {0:.2f}%\".format(100 * compression_ratio))"
      ]
    },
    {
      "cell_type": "markdown",
      "metadata": {
        "id": "V385U6I37dyF"
      },
      "source": [
        "## Exercise 3.3 (10%)"
      ]
    },
    {
      "cell_type": "markdown",
      "metadata": {
        "id": "z-ZFx2uC0X5d"
      },
      "source": [
        "**a) Using `bitarray` python package, encode the signal into a sequence of bits (method `.encode()` of `bitarray` package) with the codebook previously generated.**\n",
        "\n",
        "https://pypi.org/project/bitarray/\n",
        "\n",
        "Update:\n",
        "The answer is:\n",
        "\n",
        "```\n",
        "from bitarray import bitarray\n",
        "codebook_bitarray = {}\n",
        "for (k, v) in codebook.items():  # codebook as returned by huffman package\n",
        "  codebook_bitarray[k] = bitarray(v)\n",
        "a = bitarray()\n",
        "a.encode(codebook_bitarray, y)\n",
        "print(a)\n",
        "```\n",
        "\n",
        "Instead of implementing it from scratch, please explain what it does."
      ]
    },
    {
      "cell_type": "code",
      "execution_count": null,
      "metadata": {
        "id": "w3QvAAyqWh4s"
      },
      "outputs": [],
      "source": []
    },
    {
      "cell_type": "markdown",
      "metadata": {
        "id": "rWDhKB7a2OEL"
      },
      "source": [
        "**b) Decode the signal using `.decode()` method of `bitarray` package, and verify it equals `y` for all samples.**"
      ]
    },
    {
      "cell_type": "code",
      "execution_count": null,
      "metadata": {
        "id": "aHLTgLssQwzU"
      },
      "outputs": [],
      "source": []
    },
    {
      "cell_type": "markdown",
      "metadata": {
        "id": "1DkHjUeT44Ka"
      },
      "source": [
        "**c) Compute the size in kilobits per second of the bit arrays before (i.e. fix-length) and after Huffman encoding.**"
      ]
    },
    {
      "cell_type": "code",
      "execution_count": null,
      "metadata": {
        "id": "Ry9djAAVeKst"
      },
      "outputs": [],
      "source": []
    },
    {
      "cell_type": "code",
      "execution_count": null,
      "metadata": {
        "id": "i30KAUug8qDL"
      },
      "outputs": [],
      "source": [
        "print(\"kbps fixed-length: {0}kbps\".format(kbps_per_second_fixlength))\n",
        "print(\"kbps Huffman: {0}kbps\".format(kbps_per_second_encoded))"
      ]
    },
    {
      "cell_type": "markdown",
      "metadata": {
        "id": "GRl-GBjDs_d9"
      },
      "source": [
        "**d) Are the previous kbps values consistent with the compression ratio already computed before?**"
      ]
    },
    {
      "cell_type": "markdown",
      "metadata": {
        "id": "6s9D5QXPtJo9"
      },
      "source": [
        "(Answer here)"
      ]
    }
  ],
  "metadata": {
    "colab": {
      "collapsed_sections": [],
      "provenance": [],
      "toc_visible": true
    },
    "kernelspec": {
      "display_name": "Python 3",
      "language": "python",
      "name": "python3"
    },
    "language_info": {
      "codemirror_mode": {
        "name": "ipython",
        "version": 3
      },
      "file_extension": ".py",
      "mimetype": "text/x-python",
      "name": "python",
      "nbconvert_exporter": "python",
      "pygments_lexer": "ipython3",
      "version": "3.8.5"
    }
  },
  "nbformat": 4,
  "nbformat_minor": 0
}